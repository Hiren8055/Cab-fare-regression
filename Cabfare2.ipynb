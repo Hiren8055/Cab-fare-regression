{
  "nbformat": 4,
  "nbformat_minor": 5,
  "metadata": {
    "kernelspec": {
      "display_name": "Python 3",
      "language": "python",
      "name": "python3"
    },
    "language_info": {
      "codemirror_mode": {
        "name": "ipython",
        "version": 3
      },
      "file_extension": ".py",
      "mimetype": "text/x-python",
      "name": "python",
      "nbconvert_exporter": "python",
      "pygments_lexer": "ipython3",
      "version": "3.6.12"
    },
    "colab": {
      "name": "Cab fare2.0 with cross validation.ipynb",
      "provenance": [],
      "collapsed_sections": [
        "orange-louisville"
      ]
    }
  },
  "cells": [
    {
      "cell_type": "markdown",
      "metadata": {
        "id": "electoral-pocket"
      },
      "source": [
        "\n",
        "## 1. Frame the problem and getting the big picture\n",
        "Get the fare of cab from the company(Uber/Lyft) and distance travelled by cab.\n",
        "\n",
        "this effected by distance, company by which cab and which type of cab is booked\n",
        "and may be the source and the destination place"
      ],
      "id": "electoral-pocket"
    },
    {
      "cell_type": "markdown",
      "metadata": {
        "id": "forward-montreal"
      },
      "source": [
        "index\n",
        "\n",
        "time_stamp - epoch time (in seconds) when the cab was booked\n",
        "\n",
        "cab_provider - company (Uber/Lyft)\n",
        "\n",
        "source - the starting point of the cab ride\n",
        "\n",
        "destination - the destination of the cab ride\n",
        "\n",
        "distance - the distance between source and destination\n",
        "\n",
        "surge_multiplier - multiplier by which price increased\n",
        "\n",
        "cab_type - the type of cab (Uber Pool, Uber XL, etc. )\n",
        "\n",
        "fare - cab fare in USD (Target Attribute)"
      ],
      "id": "forward-montreal"
    },
    {
      "cell_type": "code",
      "metadata": {
        "id": "posted-windows"
      },
      "source": [
        "import math\n",
        "import seaborn as sns\n",
        "import tensorflow as tf\n",
        "import matplotlib.pyplot as plt\n",
        "import pandas as pd\n",
        "%matplotlib inline"
      ],
      "id": "posted-windows",
      "execution_count": 1,
      "outputs": []
    },
    {
      "cell_type": "markdown",
      "metadata": {
        "id": "physical-mills"
      },
      "source": [
        "## 2. Get the data"
      ],
      "id": "physical-mills"
    },
    {
      "cell_type": "code",
      "metadata": {
        "id": "dense-increase"
      },
      "source": [
        "df = pd.read_csv(\"/content/TRAIN.csv\")"
      ],
      "id": "dense-increase",
      "execution_count": 2,
      "outputs": []
    },
    {
      "cell_type": "markdown",
      "metadata": {
        "id": "upper-tissue"
      },
      "source": [
        "## 3.Explore the data to get the insight - feature engineering by krish naik"
      ],
      "id": "upper-tissue"
    },
    {
      "cell_type": "code",
      "metadata": {
        "colab": {
          "base_uri": "https://localhost:8080/"
        },
        "id": "attractive-pillow",
        "outputId": "0b1fe328-122e-467d-9759-8983e6491fb0"
      },
      "source": [
        "df.shape"
      ],
      "id": "attractive-pillow",
      "execution_count": 3,
      "outputs": [
        {
          "output_type": "execute_result",
          "data": {
            "text/plain": [
              "(100000, 9)"
            ]
          },
          "metadata": {
            "tags": []
          },
          "execution_count": 3
        }
      ]
    },
    {
      "cell_type": "code",
      "metadata": {
        "colab": {
          "base_uri": "https://localhost:8080/",
          "height": 563
        },
        "id": "photographic-ballet",
        "outputId": "9a4b1a33-a5f6-4b79-a791-8bd449793969"
      },
      "source": [
        "df.iloc[:,:]"
      ],
      "id": "photographic-ballet",
      "execution_count": 4,
      "outputs": [
        {
          "output_type": "execute_result",
          "data": {
            "text/html": [
              "<div>\n",
              "<style scoped>\n",
              "    .dataframe tbody tr th:only-of-type {\n",
              "        vertical-align: middle;\n",
              "    }\n",
              "\n",
              "    .dataframe tbody tr th {\n",
              "        vertical-align: top;\n",
              "    }\n",
              "\n",
              "    .dataframe thead th {\n",
              "        text-align: right;\n",
              "    }\n",
              "</style>\n",
              "<table border=\"1\" class=\"dataframe\">\n",
              "  <thead>\n",
              "    <tr style=\"text-align: right;\">\n",
              "      <th></th>\n",
              "      <th>index</th>\n",
              "      <th>time_stamp</th>\n",
              "      <th>cab_provider</th>\n",
              "      <th>source</th>\n",
              "      <th>destination</th>\n",
              "      <th>distance</th>\n",
              "      <th>surge_multiplier</th>\n",
              "      <th>cab_type</th>\n",
              "      <th>fare</th>\n",
              "    </tr>\n",
              "  </thead>\n",
              "  <tbody>\n",
              "    <tr>\n",
              "      <th>0</th>\n",
              "      <td>0</td>\n",
              "      <td>1543203646318</td>\n",
              "      <td>Lyft</td>\n",
              "      <td>Boston University</td>\n",
              "      <td>Theatre District</td>\n",
              "      <td>3.03</td>\n",
              "      <td>1.0</td>\n",
              "      <td>Lux Black XL</td>\n",
              "      <td>34.0</td>\n",
              "    </tr>\n",
              "    <tr>\n",
              "      <th>1</th>\n",
              "      <td>1</td>\n",
              "      <td>1543203646319</td>\n",
              "      <td>Uber</td>\n",
              "      <td>South Station</td>\n",
              "      <td>Theatre District</td>\n",
              "      <td>1.30</td>\n",
              "      <td>1.0</td>\n",
              "      <td>Black</td>\n",
              "      <td>18.5</td>\n",
              "    </tr>\n",
              "    <tr>\n",
              "      <th>2</th>\n",
              "      <td>2</td>\n",
              "      <td>1543203646320</td>\n",
              "      <td>Uber</td>\n",
              "      <td>Theatre District</td>\n",
              "      <td>Fenway</td>\n",
              "      <td>2.71</td>\n",
              "      <td>1.0</td>\n",
              "      <td>UberX</td>\n",
              "      <td>19.5</td>\n",
              "    </tr>\n",
              "    <tr>\n",
              "      <th>3</th>\n",
              "      <td>3</td>\n",
              "      <td>1543203646320</td>\n",
              "      <td>Lyft</td>\n",
              "      <td>Northeastern University</td>\n",
              "      <td>Beacon Hill</td>\n",
              "      <td>2.43</td>\n",
              "      <td>1.0</td>\n",
              "      <td>Lyft</td>\n",
              "      <td>10.5</td>\n",
              "    </tr>\n",
              "    <tr>\n",
              "      <th>4</th>\n",
              "      <td>4</td>\n",
              "      <td>1543203646320</td>\n",
              "      <td>Uber</td>\n",
              "      <td>Theatre District</td>\n",
              "      <td>Fenway</td>\n",
              "      <td>2.71</td>\n",
              "      <td>1.0</td>\n",
              "      <td>UberXL</td>\n",
              "      <td>32.0</td>\n",
              "    </tr>\n",
              "    <tr>\n",
              "      <th>...</th>\n",
              "      <td>...</td>\n",
              "      <td>...</td>\n",
              "      <td>...</td>\n",
              "      <td>...</td>\n",
              "      <td>...</td>\n",
              "      <td>...</td>\n",
              "      <td>...</td>\n",
              "      <td>...</td>\n",
              "      <td>...</td>\n",
              "    </tr>\n",
              "    <tr>\n",
              "      <th>99995</th>\n",
              "      <td>99995</td>\n",
              "      <td>1543364124049</td>\n",
              "      <td>Uber</td>\n",
              "      <td>North End</td>\n",
              "      <td>West End</td>\n",
              "      <td>1.16</td>\n",
              "      <td>1.0</td>\n",
              "      <td>UberXL</td>\n",
              "      <td>12.0</td>\n",
              "    </tr>\n",
              "    <tr>\n",
              "      <th>99996</th>\n",
              "      <td>99996</td>\n",
              "      <td>1543364124049</td>\n",
              "      <td>Uber</td>\n",
              "      <td>North End</td>\n",
              "      <td>West End</td>\n",
              "      <td>1.16</td>\n",
              "      <td>1.0</td>\n",
              "      <td>Black SUV</td>\n",
              "      <td>26.0</td>\n",
              "    </tr>\n",
              "    <tr>\n",
              "      <th>99997</th>\n",
              "      <td>99997</td>\n",
              "      <td>1543364124049</td>\n",
              "      <td>Uber</td>\n",
              "      <td>North End</td>\n",
              "      <td>West End</td>\n",
              "      <td>1.16</td>\n",
              "      <td>1.0</td>\n",
              "      <td>Black</td>\n",
              "      <td>16.0</td>\n",
              "    </tr>\n",
              "    <tr>\n",
              "      <th>99998</th>\n",
              "      <td>99998</td>\n",
              "      <td>1543364124049</td>\n",
              "      <td>Uber</td>\n",
              "      <td>North End</td>\n",
              "      <td>West End</td>\n",
              "      <td>1.16</td>\n",
              "      <td>1.0</td>\n",
              "      <td>UberX</td>\n",
              "      <td>7.0</td>\n",
              "    </tr>\n",
              "    <tr>\n",
              "      <th>99999</th>\n",
              "      <td>99999</td>\n",
              "      <td>1543364124049</td>\n",
              "      <td>Uber</td>\n",
              "      <td>Beacon Hill</td>\n",
              "      <td>Haymarket Square</td>\n",
              "      <td>1.23</td>\n",
              "      <td>1.0</td>\n",
              "      <td>UberX</td>\n",
              "      <td>7.0</td>\n",
              "    </tr>\n",
              "  </tbody>\n",
              "</table>\n",
              "<p>100000 rows × 9 columns</p>\n",
              "</div>"
            ],
            "text/plain": [
              "       index     time_stamp cab_provider  ... surge_multiplier      cab_type  fare\n",
              "0          0  1543203646318         Lyft  ...              1.0  Lux Black XL  34.0\n",
              "1          1  1543203646319         Uber  ...              1.0         Black  18.5\n",
              "2          2  1543203646320         Uber  ...              1.0         UberX  19.5\n",
              "3          3  1543203646320         Lyft  ...              1.0          Lyft  10.5\n",
              "4          4  1543203646320         Uber  ...              1.0        UberXL  32.0\n",
              "...      ...            ...          ...  ...              ...           ...   ...\n",
              "99995  99995  1543364124049         Uber  ...              1.0        UberXL  12.0\n",
              "99996  99996  1543364124049         Uber  ...              1.0     Black SUV  26.0\n",
              "99997  99997  1543364124049         Uber  ...              1.0         Black  16.0\n",
              "99998  99998  1543364124049         Uber  ...              1.0         UberX   7.0\n",
              "99999  99999  1543364124049         Uber  ...              1.0         UberX   7.0\n",
              "\n",
              "[100000 rows x 9 columns]"
            ]
          },
          "metadata": {
            "tags": []
          },
          "execution_count": 4
        }
      ]
    },
    {
      "cell_type": "code",
      "metadata": {
        "id": "lucky-structure"
      },
      "source": [
        "df['time_stamp'] = pd.to_datetime(df['time_stamp'], unit='ms')"
      ],
      "id": "lucky-structure",
      "execution_count": 5,
      "outputs": []
    },
    {
      "cell_type": "code",
      "metadata": {
        "colab": {
          "base_uri": "https://localhost:8080/",
          "height": 292
        },
        "id": "unexpected-offense",
        "outputId": "3e802121-6292-41e2-c7e7-4e1d57599b0c"
      },
      "source": [
        "df.head()"
      ],
      "id": "unexpected-offense",
      "execution_count": 6,
      "outputs": [
        {
          "output_type": "execute_result",
          "data": {
            "text/html": [
              "<div>\n",
              "<style scoped>\n",
              "    .dataframe tbody tr th:only-of-type {\n",
              "        vertical-align: middle;\n",
              "    }\n",
              "\n",
              "    .dataframe tbody tr th {\n",
              "        vertical-align: top;\n",
              "    }\n",
              "\n",
              "    .dataframe thead th {\n",
              "        text-align: right;\n",
              "    }\n",
              "</style>\n",
              "<table border=\"1\" class=\"dataframe\">\n",
              "  <thead>\n",
              "    <tr style=\"text-align: right;\">\n",
              "      <th></th>\n",
              "      <th>index</th>\n",
              "      <th>time_stamp</th>\n",
              "      <th>cab_provider</th>\n",
              "      <th>source</th>\n",
              "      <th>destination</th>\n",
              "      <th>distance</th>\n",
              "      <th>surge_multiplier</th>\n",
              "      <th>cab_type</th>\n",
              "      <th>fare</th>\n",
              "    </tr>\n",
              "  </thead>\n",
              "  <tbody>\n",
              "    <tr>\n",
              "      <th>0</th>\n",
              "      <td>0</td>\n",
              "      <td>2018-11-26 03:40:46.318</td>\n",
              "      <td>Lyft</td>\n",
              "      <td>Boston University</td>\n",
              "      <td>Theatre District</td>\n",
              "      <td>3.03</td>\n",
              "      <td>1.0</td>\n",
              "      <td>Lux Black XL</td>\n",
              "      <td>34.0</td>\n",
              "    </tr>\n",
              "    <tr>\n",
              "      <th>1</th>\n",
              "      <td>1</td>\n",
              "      <td>2018-11-26 03:40:46.319</td>\n",
              "      <td>Uber</td>\n",
              "      <td>South Station</td>\n",
              "      <td>Theatre District</td>\n",
              "      <td>1.30</td>\n",
              "      <td>1.0</td>\n",
              "      <td>Black</td>\n",
              "      <td>18.5</td>\n",
              "    </tr>\n",
              "    <tr>\n",
              "      <th>2</th>\n",
              "      <td>2</td>\n",
              "      <td>2018-11-26 03:40:46.320</td>\n",
              "      <td>Uber</td>\n",
              "      <td>Theatre District</td>\n",
              "      <td>Fenway</td>\n",
              "      <td>2.71</td>\n",
              "      <td>1.0</td>\n",
              "      <td>UberX</td>\n",
              "      <td>19.5</td>\n",
              "    </tr>\n",
              "    <tr>\n",
              "      <th>3</th>\n",
              "      <td>3</td>\n",
              "      <td>2018-11-26 03:40:46.320</td>\n",
              "      <td>Lyft</td>\n",
              "      <td>Northeastern University</td>\n",
              "      <td>Beacon Hill</td>\n",
              "      <td>2.43</td>\n",
              "      <td>1.0</td>\n",
              "      <td>Lyft</td>\n",
              "      <td>10.5</td>\n",
              "    </tr>\n",
              "    <tr>\n",
              "      <th>4</th>\n",
              "      <td>4</td>\n",
              "      <td>2018-11-26 03:40:46.320</td>\n",
              "      <td>Uber</td>\n",
              "      <td>Theatre District</td>\n",
              "      <td>Fenway</td>\n",
              "      <td>2.71</td>\n",
              "      <td>1.0</td>\n",
              "      <td>UberXL</td>\n",
              "      <td>32.0</td>\n",
              "    </tr>\n",
              "  </tbody>\n",
              "</table>\n",
              "</div>"
            ],
            "text/plain": [
              "   index              time_stamp  ...      cab_type  fare\n",
              "0      0 2018-11-26 03:40:46.318  ...  Lux Black XL  34.0\n",
              "1      1 2018-11-26 03:40:46.319  ...         Black  18.5\n",
              "2      2 2018-11-26 03:40:46.320  ...         UberX  19.5\n",
              "3      3 2018-11-26 03:40:46.320  ...          Lyft  10.5\n",
              "4      4 2018-11-26 03:40:46.320  ...        UberXL  32.0\n",
              "\n",
              "[5 rows x 9 columns]"
            ]
          },
          "metadata": {
            "tags": []
          },
          "execution_count": 6
        }
      ]
    },
    {
      "cell_type": "code",
      "metadata": {
        "colab": {
          "base_uri": "https://localhost:8080/",
          "height": 299
        },
        "id": "tropical-miller",
        "outputId": "eaafd893-a219-456e-ead1-31bea1ca4f11"
      },
      "source": [
        "df.describe()"
      ],
      "id": "tropical-miller",
      "execution_count": 7,
      "outputs": [
        {
          "output_type": "execute_result",
          "data": {
            "text/html": [
              "<div>\n",
              "<style scoped>\n",
              "    .dataframe tbody tr th:only-of-type {\n",
              "        vertical-align: middle;\n",
              "    }\n",
              "\n",
              "    .dataframe tbody tr th {\n",
              "        vertical-align: top;\n",
              "    }\n",
              "\n",
              "    .dataframe thead th {\n",
              "        text-align: right;\n",
              "    }\n",
              "</style>\n",
              "<table border=\"1\" class=\"dataframe\">\n",
              "  <thead>\n",
              "    <tr style=\"text-align: right;\">\n",
              "      <th></th>\n",
              "      <th>index</th>\n",
              "      <th>distance</th>\n",
              "      <th>surge_multiplier</th>\n",
              "      <th>fare</th>\n",
              "    </tr>\n",
              "  </thead>\n",
              "  <tbody>\n",
              "    <tr>\n",
              "      <th>count</th>\n",
              "      <td>100000.000000</td>\n",
              "      <td>100000.000000</td>\n",
              "      <td>100000.000000</td>\n",
              "      <td>100000.000000</td>\n",
              "    </tr>\n",
              "    <tr>\n",
              "      <th>mean</th>\n",
              "      <td>49999.500000</td>\n",
              "      <td>2.188783</td>\n",
              "      <td>1.014945</td>\n",
              "      <td>16.571013</td>\n",
              "    </tr>\n",
              "    <tr>\n",
              "      <th>std</th>\n",
              "      <td>28867.657797</td>\n",
              "      <td>1.142837</td>\n",
              "      <td>0.095462</td>\n",
              "      <td>9.333901</td>\n",
              "    </tr>\n",
              "    <tr>\n",
              "      <th>min</th>\n",
              "      <td>0.000000</td>\n",
              "      <td>0.020000</td>\n",
              "      <td>1.000000</td>\n",
              "      <td>2.500000</td>\n",
              "    </tr>\n",
              "    <tr>\n",
              "      <th>25%</th>\n",
              "      <td>24999.750000</td>\n",
              "      <td>1.280000</td>\n",
              "      <td>1.000000</td>\n",
              "      <td>9.000000</td>\n",
              "    </tr>\n",
              "    <tr>\n",
              "      <th>50%</th>\n",
              "      <td>49999.500000</td>\n",
              "      <td>2.150000</td>\n",
              "      <td>1.000000</td>\n",
              "      <td>13.500000</td>\n",
              "    </tr>\n",
              "    <tr>\n",
              "      <th>75%</th>\n",
              "      <td>74999.250000</td>\n",
              "      <td>2.930000</td>\n",
              "      <td>1.000000</td>\n",
              "      <td>22.500000</td>\n",
              "    </tr>\n",
              "    <tr>\n",
              "      <th>max</th>\n",
              "      <td>99999.000000</td>\n",
              "      <td>7.500000</td>\n",
              "      <td>3.000000</td>\n",
              "      <td>92.000000</td>\n",
              "    </tr>\n",
              "  </tbody>\n",
              "</table>\n",
              "</div>"
            ],
            "text/plain": [
              "               index       distance  surge_multiplier           fare\n",
              "count  100000.000000  100000.000000     100000.000000  100000.000000\n",
              "mean    49999.500000       2.188783          1.014945      16.571013\n",
              "std     28867.657797       1.142837          0.095462       9.333901\n",
              "min         0.000000       0.020000          1.000000       2.500000\n",
              "25%     24999.750000       1.280000          1.000000       9.000000\n",
              "50%     49999.500000       2.150000          1.000000      13.500000\n",
              "75%     74999.250000       2.930000          1.000000      22.500000\n",
              "max     99999.000000       7.500000          3.000000      92.000000"
            ]
          },
          "metadata": {
            "tags": []
          },
          "execution_count": 7
        }
      ]
    },
    {
      "cell_type": "code",
      "metadata": {
        "colab": {
          "base_uri": "https://localhost:8080/"
        },
        "id": "inside-nursing",
        "outputId": "0f030ce0-0825-413f-8942-2d22c10f6915"
      },
      "source": [
        "df.info()"
      ],
      "id": "inside-nursing",
      "execution_count": 8,
      "outputs": [
        {
          "output_type": "stream",
          "text": [
            "<class 'pandas.core.frame.DataFrame'>\n",
            "RangeIndex: 100000 entries, 0 to 99999\n",
            "Data columns (total 9 columns):\n",
            " #   Column            Non-Null Count   Dtype         \n",
            "---  ------            --------------   -----         \n",
            " 0   index             100000 non-null  int64         \n",
            " 1   time_stamp        100000 non-null  datetime64[ns]\n",
            " 2   cab_provider      100000 non-null  object        \n",
            " 3   source            100000 non-null  object        \n",
            " 4   destination       100000 non-null  object        \n",
            " 5   distance          100000 non-null  float64       \n",
            " 6   surge_multiplier  100000 non-null  float64       \n",
            " 7   cab_type          100000 non-null  object        \n",
            " 8   fare              100000 non-null  float64       \n",
            "dtypes: datetime64[ns](1), float64(3), int64(1), object(4)\n",
            "memory usage: 6.9+ MB\n"
          ],
          "name": "stdout"
        }
      ]
    },
    {
      "cell_type": "code",
      "metadata": {
        "id": "standing-depression"
      },
      "source": [
        "df[\"day\"] = pd.to_datetime(df.time_stamp, format=\"%Y-%m-%d\").dt.day\n",
        "df[\"hour\"] = pd.to_datetime(df.time_stamp, format=\"%Y-%m-%d\").dt.hour\n",
        "df[\"min\"] = pd.to_datetime(df.time_stamp, format=\"%Y-%m-%d\").dt.minute\n",
        "df[\"sec\"] = pd.to_datetime(df.time_stamp, format=\"%Y-%m-%d\").dt.second"
      ],
      "id": "standing-depression",
      "execution_count": 9,
      "outputs": []
    },
    {
      "cell_type": "code",
      "metadata": {
        "colab": {
          "base_uri": "https://localhost:8080/",
          "height": 312
        },
        "id": "selective-henry",
        "outputId": "697bcabe-a3de-45d3-b6d7-4cc3b252bb7d"
      },
      "source": [
        "df.head()"
      ],
      "id": "selective-henry",
      "execution_count": 10,
      "outputs": [
        {
          "output_type": "execute_result",
          "data": {
            "text/html": [
              "<div>\n",
              "<style scoped>\n",
              "    .dataframe tbody tr th:only-of-type {\n",
              "        vertical-align: middle;\n",
              "    }\n",
              "\n",
              "    .dataframe tbody tr th {\n",
              "        vertical-align: top;\n",
              "    }\n",
              "\n",
              "    .dataframe thead th {\n",
              "        text-align: right;\n",
              "    }\n",
              "</style>\n",
              "<table border=\"1\" class=\"dataframe\">\n",
              "  <thead>\n",
              "    <tr style=\"text-align: right;\">\n",
              "      <th></th>\n",
              "      <th>index</th>\n",
              "      <th>time_stamp</th>\n",
              "      <th>cab_provider</th>\n",
              "      <th>source</th>\n",
              "      <th>destination</th>\n",
              "      <th>distance</th>\n",
              "      <th>surge_multiplier</th>\n",
              "      <th>cab_type</th>\n",
              "      <th>fare</th>\n",
              "      <th>day</th>\n",
              "      <th>hour</th>\n",
              "      <th>min</th>\n",
              "      <th>sec</th>\n",
              "    </tr>\n",
              "  </thead>\n",
              "  <tbody>\n",
              "    <tr>\n",
              "      <th>0</th>\n",
              "      <td>0</td>\n",
              "      <td>2018-11-26 03:40:46.318</td>\n",
              "      <td>Lyft</td>\n",
              "      <td>Boston University</td>\n",
              "      <td>Theatre District</td>\n",
              "      <td>3.03</td>\n",
              "      <td>1.0</td>\n",
              "      <td>Lux Black XL</td>\n",
              "      <td>34.0</td>\n",
              "      <td>26</td>\n",
              "      <td>3</td>\n",
              "      <td>40</td>\n",
              "      <td>46</td>\n",
              "    </tr>\n",
              "    <tr>\n",
              "      <th>1</th>\n",
              "      <td>1</td>\n",
              "      <td>2018-11-26 03:40:46.319</td>\n",
              "      <td>Uber</td>\n",
              "      <td>South Station</td>\n",
              "      <td>Theatre District</td>\n",
              "      <td>1.30</td>\n",
              "      <td>1.0</td>\n",
              "      <td>Black</td>\n",
              "      <td>18.5</td>\n",
              "      <td>26</td>\n",
              "      <td>3</td>\n",
              "      <td>40</td>\n",
              "      <td>46</td>\n",
              "    </tr>\n",
              "    <tr>\n",
              "      <th>2</th>\n",
              "      <td>2</td>\n",
              "      <td>2018-11-26 03:40:46.320</td>\n",
              "      <td>Uber</td>\n",
              "      <td>Theatre District</td>\n",
              "      <td>Fenway</td>\n",
              "      <td>2.71</td>\n",
              "      <td>1.0</td>\n",
              "      <td>UberX</td>\n",
              "      <td>19.5</td>\n",
              "      <td>26</td>\n",
              "      <td>3</td>\n",
              "      <td>40</td>\n",
              "      <td>46</td>\n",
              "    </tr>\n",
              "    <tr>\n",
              "      <th>3</th>\n",
              "      <td>3</td>\n",
              "      <td>2018-11-26 03:40:46.320</td>\n",
              "      <td>Lyft</td>\n",
              "      <td>Northeastern University</td>\n",
              "      <td>Beacon Hill</td>\n",
              "      <td>2.43</td>\n",
              "      <td>1.0</td>\n",
              "      <td>Lyft</td>\n",
              "      <td>10.5</td>\n",
              "      <td>26</td>\n",
              "      <td>3</td>\n",
              "      <td>40</td>\n",
              "      <td>46</td>\n",
              "    </tr>\n",
              "    <tr>\n",
              "      <th>4</th>\n",
              "      <td>4</td>\n",
              "      <td>2018-11-26 03:40:46.320</td>\n",
              "      <td>Uber</td>\n",
              "      <td>Theatre District</td>\n",
              "      <td>Fenway</td>\n",
              "      <td>2.71</td>\n",
              "      <td>1.0</td>\n",
              "      <td>UberXL</td>\n",
              "      <td>32.0</td>\n",
              "      <td>26</td>\n",
              "      <td>3</td>\n",
              "      <td>40</td>\n",
              "      <td>46</td>\n",
              "    </tr>\n",
              "  </tbody>\n",
              "</table>\n",
              "</div>"
            ],
            "text/plain": [
              "   index              time_stamp cab_provider  ... hour min  sec\n",
              "0      0 2018-11-26 03:40:46.318         Lyft  ...    3  40   46\n",
              "1      1 2018-11-26 03:40:46.319         Uber  ...    3  40   46\n",
              "2      2 2018-11-26 03:40:46.320         Uber  ...    3  40   46\n",
              "3      3 2018-11-26 03:40:46.320         Lyft  ...    3  40   46\n",
              "4      4 2018-11-26 03:40:46.320         Uber  ...    3  40   46\n",
              "\n",
              "[5 rows x 13 columns]"
            ]
          },
          "metadata": {
            "tags": []
          },
          "execution_count": 10
        }
      ]
    },
    {
      "cell_type": "code",
      "metadata": {
        "colab": {
          "base_uri": "https://localhost:8080/"
        },
        "id": "israeli-coupon",
        "outputId": "ccec6e18-da20-443b-a735-f658ca414531"
      },
      "source": [
        "corr_matrix_ = df.corr()\n",
        "corr_matrix_['fare'].sort_values(ascending=False)"
      ],
      "id": "israeli-coupon",
      "execution_count": 11,
      "outputs": [
        {
          "output_type": "execute_result",
          "data": {
            "text/plain": [
              "fare                1.000000\n",
              "distance            0.345961\n",
              "surge_multiplier    0.237346\n",
              "index               0.003182\n",
              "hour                0.002103\n",
              "day                 0.002002\n",
              "sec                -0.000932\n",
              "min                -0.009169\n",
              "Name: fare, dtype: float64"
            ]
          },
          "metadata": {
            "tags": []
          },
          "execution_count": 11
        }
      ]
    },
    {
      "cell_type": "code",
      "metadata": {
        "colab": {
          "base_uri": "https://localhost:8080/",
          "height": 525
        },
        "id": "adolescent-stanley",
        "outputId": "5fb9e2e6-3c8d-4e74-e18b-e0d577838f6c"
      },
      "source": [
        "from pandas.plotting import scatter_matrix\n",
        "attributes = [\"distance\",\"surge_multiplier\",\"source\",\"destination\"]\n",
        "scatter_matrix(df[attributes], figsize = (20,10))"
      ],
      "id": "adolescent-stanley",
      "execution_count": 12,
      "outputs": [
        {
          "output_type": "execute_result",
          "data": {
            "text/plain": [
              "array([[<matplotlib.axes._subplots.AxesSubplot object at 0x7ff8e96a54d0>,\n",
              "        <matplotlib.axes._subplots.AxesSubplot object at 0x7ff8e9635c10>],\n",
              "       [<matplotlib.axes._subplots.AxesSubplot object at 0x7ff8e95fb2d0>,\n",
              "        <matplotlib.axes._subplots.AxesSubplot object at 0x7ff8e95b2950>]],\n",
              "      dtype=object)"
            ]
          },
          "metadata": {
            "tags": []
          },
          "execution_count": 12
        },
        {
          "output_type": "display_data",
          "data": {
            "image/png": "[encoded data removed]",
            "text/plain": [
              "<Figure size 1440x720 with 4 Axes>"
            ]
          },
          "metadata": {
            "tags": [],
            "needs_background": "light"
          }
        }
      ]
    },
    {
      "cell_type": "code",
      "metadata": {
        "id": "micro-commission"
      },
      "source": [
        "# a = [\"source\",\"surge_multiplier\",\"cab_type\",\"destination\"]\n",
        "# pd.plotting.scatter_matrix(df, alpha=0.5,figsize=(50,50))"
      ],
      "id": "micro-commission",
      "execution_count": 13,
      "outputs": []
    },
    {
      "cell_type": "code",
      "metadata": {
        "colab": {
          "base_uri": "https://localhost:8080/"
        },
        "id": "civilian-excerpt",
        "outputId": "6a07e667-55de-4683-dfc7-439d665675e4"
      },
      "source": [
        "corr_matrix_ = df.corr()\n",
        "corr_matrix_['fare'].sort_values(ascending=False)"
      ],
      "id": "civilian-excerpt",
      "execution_count": 14,
      "outputs": [
        {
          "output_type": "execute_result",
          "data": {
            "text/plain": [
              "fare                1.000000\n",
              "distance            0.345961\n",
              "surge_multiplier    0.237346\n",
              "index               0.003182\n",
              "hour                0.002103\n",
              "day                 0.002002\n",
              "sec                -0.000932\n",
              "min                -0.009169\n",
              "Name: fare, dtype: float64"
            ]
          },
          "metadata": {
            "tags": []
          },
          "execution_count": 14
        }
      ]
    },
    {
      "cell_type": "code",
      "metadata": {
        "scrolled": true,
        "colab": {
          "base_uri": "https://localhost:8080/",
          "height": 358
        },
        "id": "artistic-badge",
        "outputId": "42aa9f39-0f6a-48d2-b6b8-5ab2af38d755"
      },
      "source": [
        "sns.heatmap(corr_matrix_,robust=0)"
      ],
      "id": "artistic-badge",
      "execution_count": 15,
      "outputs": [
        {
          "output_type": "execute_result",
          "data": {
            "text/plain": [
              "<matplotlib.axes._subplots.AxesSubplot at 0x7ff8e8f83d50>"
            ]
          },
          "metadata": {
            "tags": []
          },
          "execution_count": 15
        },
        {
          "output_type": "display_data",
          "data": {
            "image/png": "[encoded data removed]",
            "text/plain": [
              "<Figure size 432x288 with 2 Axes>"
            ]
          },
          "metadata": {
            "tags": [],
            "needs_background": "light"
          }
        }
      ]
    },
    {
      "cell_type": "markdown",
      "metadata": {
        "id": "previous-helicopter"
      },
      "source": [
        "### there can be relation between destination and source \n",
        "### Fare can be related to time of cab booked"
      ],
      "id": "previous-helicopter"
    },
    {
      "cell_type": "code",
      "metadata": {
        "colab": {
          "base_uri": "https://localhost:8080/",
          "height": 615
        },
        "id": "expanded-heritage",
        "outputId": "b110d01e-66c9-4910-ad9e-7bd021db716a"
      },
      "source": [
        "df"
      ],
      "id": "expanded-heritage",
      "execution_count": 16,
      "outputs": [
        {
          "output_type": "execute_result",
          "data": {
            "text/html": [
              "<div>\n",
              "<style scoped>\n",
              "    .dataframe tbody tr th:only-of-type {\n",
              "        vertical-align: middle;\n",
              "    }\n",
              "\n",
              "    .dataframe tbody tr th {\n",
              "        vertical-align: top;\n",
              "    }\n",
              "\n",
              "    .dataframe thead th {\n",
              "        text-align: right;\n",
              "    }\n",
              "</style>\n",
              "<table border=\"1\" class=\"dataframe\">\n",
              "  <thead>\n",
              "    <tr style=\"text-align: right;\">\n",
              "      <th></th>\n",
              "      <th>index</th>\n",
              "      <th>time_stamp</th>\n",
              "      <th>cab_provider</th>\n",
              "      <th>source</th>\n",
              "      <th>destination</th>\n",
              "      <th>distance</th>\n",
              "      <th>surge_multiplier</th>\n",
              "      <th>cab_type</th>\n",
              "      <th>fare</th>\n",
              "      <th>day</th>\n",
              "      <th>hour</th>\n",
              "      <th>min</th>\n",
              "      <th>sec</th>\n",
              "    </tr>\n",
              "  </thead>\n",
              "  <tbody>\n",
              "    <tr>\n",
              "      <th>0</th>\n",
              "      <td>0</td>\n",
              "      <td>2018-11-26 03:40:46.318</td>\n",
              "      <td>Lyft</td>\n",
              "      <td>Boston University</td>\n",
              "      <td>Theatre District</td>\n",
              "      <td>3.03</td>\n",
              "      <td>1.0</td>\n",
              "      <td>Lux Black XL</td>\n",
              "      <td>34.0</td>\n",
              "      <td>26</td>\n",
              "      <td>3</td>\n",
              "      <td>40</td>\n",
              "      <td>46</td>\n",
              "    </tr>\n",
              "    <tr>\n",
              "      <th>1</th>\n",
              "      <td>1</td>\n",
              "      <td>2018-11-26 03:40:46.319</td>\n",
              "      <td>Uber</td>\n",
              "      <td>South Station</td>\n",
              "      <td>Theatre District</td>\n",
              "      <td>1.30</td>\n",
              "      <td>1.0</td>\n",
              "      <td>Black</td>\n",
              "      <td>18.5</td>\n",
              "      <td>26</td>\n",
              "      <td>3</td>\n",
              "      <td>40</td>\n",
              "      <td>46</td>\n",
              "    </tr>\n",
              "    <tr>\n",
              "      <th>2</th>\n",
              "      <td>2</td>\n",
              "      <td>2018-11-26 03:40:46.320</td>\n",
              "      <td>Uber</td>\n",
              "      <td>Theatre District</td>\n",
              "      <td>Fenway</td>\n",
              "      <td>2.71</td>\n",
              "      <td>1.0</td>\n",
              "      <td>UberX</td>\n",
              "      <td>19.5</td>\n",
              "      <td>26</td>\n",
              "      <td>3</td>\n",
              "      <td>40</td>\n",
              "      <td>46</td>\n",
              "    </tr>\n",
              "    <tr>\n",
              "      <th>3</th>\n",
              "      <td>3</td>\n",
              "      <td>2018-11-26 03:40:46.320</td>\n",
              "      <td>Lyft</td>\n",
              "      <td>Northeastern University</td>\n",
              "      <td>Beacon Hill</td>\n",
              "      <td>2.43</td>\n",
              "      <td>1.0</td>\n",
              "      <td>Lyft</td>\n",
              "      <td>10.5</td>\n",
              "      <td>26</td>\n",
              "      <td>3</td>\n",
              "      <td>40</td>\n",
              "      <td>46</td>\n",
              "    </tr>\n",
              "    <tr>\n",
              "      <th>4</th>\n",
              "      <td>4</td>\n",
              "      <td>2018-11-26 03:40:46.320</td>\n",
              "      <td>Uber</td>\n",
              "      <td>Theatre District</td>\n",
              "      <td>Fenway</td>\n",
              "      <td>2.71</td>\n",
              "      <td>1.0</td>\n",
              "      <td>UberXL</td>\n",
              "      <td>32.0</td>\n",
              "      <td>26</td>\n",
              "      <td>3</td>\n",
              "      <td>40</td>\n",
              "      <td>46</td>\n",
              "    </tr>\n",
              "    <tr>\n",
              "      <th>...</th>\n",
              "      <td>...</td>\n",
              "      <td>...</td>\n",
              "      <td>...</td>\n",
              "      <td>...</td>\n",
              "      <td>...</td>\n",
              "      <td>...</td>\n",
              "      <td>...</td>\n",
              "      <td>...</td>\n",
              "      <td>...</td>\n",
              "      <td>...</td>\n",
              "      <td>...</td>\n",
              "      <td>...</td>\n",
              "      <td>...</td>\n",
              "    </tr>\n",
              "    <tr>\n",
              "      <th>99995</th>\n",
              "      <td>99995</td>\n",
              "      <td>2018-11-28 00:15:24.049</td>\n",
              "      <td>Uber</td>\n",
              "      <td>North End</td>\n",
              "      <td>West End</td>\n",
              "      <td>1.16</td>\n",
              "      <td>1.0</td>\n",
              "      <td>UberXL</td>\n",
              "      <td>12.0</td>\n",
              "      <td>28</td>\n",
              "      <td>0</td>\n",
              "      <td>15</td>\n",
              "      <td>24</td>\n",
              "    </tr>\n",
              "    <tr>\n",
              "      <th>99996</th>\n",
              "      <td>99996</td>\n",
              "      <td>2018-11-28 00:15:24.049</td>\n",
              "      <td>Uber</td>\n",
              "      <td>North End</td>\n",
              "      <td>West End</td>\n",
              "      <td>1.16</td>\n",
              "      <td>1.0</td>\n",
              "      <td>Black SUV</td>\n",
              "      <td>26.0</td>\n",
              "      <td>28</td>\n",
              "      <td>0</td>\n",
              "      <td>15</td>\n",
              "      <td>24</td>\n",
              "    </tr>\n",
              "    <tr>\n",
              "      <th>99997</th>\n",
              "      <td>99997</td>\n",
              "      <td>2018-11-28 00:15:24.049</td>\n",
              "      <td>Uber</td>\n",
              "      <td>North End</td>\n",
              "      <td>West End</td>\n",
              "      <td>1.16</td>\n",
              "      <td>1.0</td>\n",
              "      <td>Black</td>\n",
              "      <td>16.0</td>\n",
              "      <td>28</td>\n",
              "      <td>0</td>\n",
              "      <td>15</td>\n",
              "      <td>24</td>\n",
              "    </tr>\n",
              "    <tr>\n",
              "      <th>99998</th>\n",
              "      <td>99998</td>\n",
              "      <td>2018-11-28 00:15:24.049</td>\n",
              "      <td>Uber</td>\n",
              "      <td>North End</td>\n",
              "      <td>West End</td>\n",
              "      <td>1.16</td>\n",
              "      <td>1.0</td>\n",
              "      <td>UberX</td>\n",
              "      <td>7.0</td>\n",
              "      <td>28</td>\n",
              "      <td>0</td>\n",
              "      <td>15</td>\n",
              "      <td>24</td>\n",
              "    </tr>\n",
              "    <tr>\n",
              "      <th>99999</th>\n",
              "      <td>99999</td>\n",
              "      <td>2018-11-28 00:15:24.049</td>\n",
              "      <td>Uber</td>\n",
              "      <td>Beacon Hill</td>\n",
              "      <td>Haymarket Square</td>\n",
              "      <td>1.23</td>\n",
              "      <td>1.0</td>\n",
              "      <td>UberX</td>\n",
              "      <td>7.0</td>\n",
              "      <td>28</td>\n",
              "      <td>0</td>\n",
              "      <td>15</td>\n",
              "      <td>24</td>\n",
              "    </tr>\n",
              "  </tbody>\n",
              "</table>\n",
              "<p>100000 rows × 13 columns</p>\n",
              "</div>"
            ],
            "text/plain": [
              "       index              time_stamp cab_provider  ... hour min  sec\n",
              "0          0 2018-11-26 03:40:46.318         Lyft  ...    3  40   46\n",
              "1          1 2018-11-26 03:40:46.319         Uber  ...    3  40   46\n",
              "2          2 2018-11-26 03:40:46.320         Uber  ...    3  40   46\n",
              "3          3 2018-11-26 03:40:46.320         Lyft  ...    3  40   46\n",
              "4          4 2018-11-26 03:40:46.320         Uber  ...    3  40   46\n",
              "...      ...                     ...          ...  ...  ...  ..  ...\n",
              "99995  99995 2018-11-28 00:15:24.049         Uber  ...    0  15   24\n",
              "99996  99996 2018-11-28 00:15:24.049         Uber  ...    0  15   24\n",
              "99997  99997 2018-11-28 00:15:24.049         Uber  ...    0  15   24\n",
              "99998  99998 2018-11-28 00:15:24.049         Uber  ...    0  15   24\n",
              "99999  99999 2018-11-28 00:15:24.049         Uber  ...    0  15   24\n",
              "\n",
              "[100000 rows x 13 columns]"
            ]
          },
          "metadata": {
            "tags": []
          },
          "execution_count": 16
        }
      ]
    },
    {
      "cell_type": "code",
      "metadata": {
        "id": "speaking-copper"
      },
      "source": [
        "cab_provider = pd.get_dummies(df[\"cab_provider\"],drop_first=True)\n",
        "source = pd.get_dummies(df[\"source\"],drop_first=True)\n",
        "destination = pd.get_dummies(df[\"destination\"],drop_first=True)\n",
        "cab_type = pd.get_dummies(df[\"cab_type\"],drop_first=True)\n",
        "df.drop([\"cab_provider\",\"source\",\"destination\",\"cab_type\"], axis=1,inplace=True)"
      ],
      "id": "speaking-copper",
      "execution_count": 17,
      "outputs": []
    },
    {
      "cell_type": "code",
      "metadata": {
        "colab": {
          "base_uri": "https://localhost:8080/",
          "height": 422
        },
        "id": "baking-fight",
        "outputId": "5909cda0-7990-4561-90d4-f7fe9e793267"
      },
      "source": [
        "df"
      ],
      "id": "baking-fight",
      "execution_count": 18,
      "outputs": [
        {
          "output_type": "execute_result",
          "data": {
            "text/html": [
              "<div>\n",
              "<style scoped>\n",
              "    .dataframe tbody tr th:only-of-type {\n",
              "        vertical-align: middle;\n",
              "    }\n",
              "\n",
              "    .dataframe tbody tr th {\n",
              "        vertical-align: top;\n",
              "    }\n",
              "\n",
              "    .dataframe thead th {\n",
              "        text-align: right;\n",
              "    }\n",
              "</style>\n",
              "<table border=\"1\" class=\"dataframe\">\n",
              "  <thead>\n",
              "    <tr style=\"text-align: right;\">\n",
              "      <th></th>\n",
              "      <th>index</th>\n",
              "      <th>time_stamp</th>\n",
              "      <th>distance</th>\n",
              "      <th>surge_multiplier</th>\n",
              "      <th>fare</th>\n",
              "      <th>day</th>\n",
              "      <th>hour</th>\n",
              "      <th>min</th>\n",
              "      <th>sec</th>\n",
              "    </tr>\n",
              "  </thead>\n",
              "  <tbody>\n",
              "    <tr>\n",
              "      <th>0</th>\n",
              "      <td>0</td>\n",
              "      <td>2018-11-26 03:40:46.318</td>\n",
              "      <td>3.03</td>\n",
              "      <td>1.0</td>\n",
              "      <td>34.0</td>\n",
              "      <td>26</td>\n",
              "      <td>3</td>\n",
              "      <td>40</td>\n",
              "      <td>46</td>\n",
              "    </tr>\n",
              "    <tr>\n",
              "      <th>1</th>\n",
              "      <td>1</td>\n",
              "      <td>2018-11-26 03:40:46.319</td>\n",
              "      <td>1.30</td>\n",
              "      <td>1.0</td>\n",
              "      <td>18.5</td>\n",
              "      <td>26</td>\n",
              "      <td>3</td>\n",
              "      <td>40</td>\n",
              "      <td>46</td>\n",
              "    </tr>\n",
              "    <tr>\n",
              "      <th>2</th>\n",
              "      <td>2</td>\n",
              "      <td>2018-11-26 03:40:46.320</td>\n",
              "      <td>2.71</td>\n",
              "      <td>1.0</td>\n",
              "      <td>19.5</td>\n",
              "      <td>26</td>\n",
              "      <td>3</td>\n",
              "      <td>40</td>\n",
              "      <td>46</td>\n",
              "    </tr>\n",
              "    <tr>\n",
              "      <th>3</th>\n",
              "      <td>3</td>\n",
              "      <td>2018-11-26 03:40:46.320</td>\n",
              "      <td>2.43</td>\n",
              "      <td>1.0</td>\n",
              "      <td>10.5</td>\n",
              "      <td>26</td>\n",
              "      <td>3</td>\n",
              "      <td>40</td>\n",
              "      <td>46</td>\n",
              "    </tr>\n",
              "    <tr>\n",
              "      <th>4</th>\n",
              "      <td>4</td>\n",
              "      <td>2018-11-26 03:40:46.320</td>\n",
              "      <td>2.71</td>\n",
              "      <td>1.0</td>\n",
              "      <td>32.0</td>\n",
              "      <td>26</td>\n",
              "      <td>3</td>\n",
              "      <td>40</td>\n",
              "      <td>46</td>\n",
              "    </tr>\n",
              "    <tr>\n",
              "      <th>...</th>\n",
              "      <td>...</td>\n",
              "      <td>...</td>\n",
              "      <td>...</td>\n",
              "      <td>...</td>\n",
              "      <td>...</td>\n",
              "      <td>...</td>\n",
              "      <td>...</td>\n",
              "      <td>...</td>\n",
              "      <td>...</td>\n",
              "    </tr>\n",
              "    <tr>\n",
              "      <th>99995</th>\n",
              "      <td>99995</td>\n",
              "      <td>2018-11-28 00:15:24.049</td>\n",
              "      <td>1.16</td>\n",
              "      <td>1.0</td>\n",
              "      <td>12.0</td>\n",
              "      <td>28</td>\n",
              "      <td>0</td>\n",
              "      <td>15</td>\n",
              "      <td>24</td>\n",
              "    </tr>\n",
              "    <tr>\n",
              "      <th>99996</th>\n",
              "      <td>99996</td>\n",
              "      <td>2018-11-28 00:15:24.049</td>\n",
              "      <td>1.16</td>\n",
              "      <td>1.0</td>\n",
              "      <td>26.0</td>\n",
              "      <td>28</td>\n",
              "      <td>0</td>\n",
              "      <td>15</td>\n",
              "      <td>24</td>\n",
              "    </tr>\n",
              "    <tr>\n",
              "      <th>99997</th>\n",
              "      <td>99997</td>\n",
              "      <td>2018-11-28 00:15:24.049</td>\n",
              "      <td>1.16</td>\n",
              "      <td>1.0</td>\n",
              "      <td>16.0</td>\n",
              "      <td>28</td>\n",
              "      <td>0</td>\n",
              "      <td>15</td>\n",
              "      <td>24</td>\n",
              "    </tr>\n",
              "    <tr>\n",
              "      <th>99998</th>\n",
              "      <td>99998</td>\n",
              "      <td>2018-11-28 00:15:24.049</td>\n",
              "      <td>1.16</td>\n",
              "      <td>1.0</td>\n",
              "      <td>7.0</td>\n",
              "      <td>28</td>\n",
              "      <td>0</td>\n",
              "      <td>15</td>\n",
              "      <td>24</td>\n",
              "    </tr>\n",
              "    <tr>\n",
              "      <th>99999</th>\n",
              "      <td>99999</td>\n",
              "      <td>2018-11-28 00:15:24.049</td>\n",
              "      <td>1.23</td>\n",
              "      <td>1.0</td>\n",
              "      <td>7.0</td>\n",
              "      <td>28</td>\n",
              "      <td>0</td>\n",
              "      <td>15</td>\n",
              "      <td>24</td>\n",
              "    </tr>\n",
              "  </tbody>\n",
              "</table>\n",
              "<p>100000 rows × 9 columns</p>\n",
              "</div>"
            ],
            "text/plain": [
              "       index              time_stamp  distance  ...  hour  min  sec\n",
              "0          0 2018-11-26 03:40:46.318      3.03  ...     3   40   46\n",
              "1          1 2018-11-26 03:40:46.319      1.30  ...     3   40   46\n",
              "2          2 2018-11-26 03:40:46.320      2.71  ...     3   40   46\n",
              "3          3 2018-11-26 03:40:46.320      2.43  ...     3   40   46\n",
              "4          4 2018-11-26 03:40:46.320      2.71  ...     3   40   46\n",
              "...      ...                     ...       ...  ...   ...  ...  ...\n",
              "99995  99995 2018-11-28 00:15:24.049      1.16  ...     0   15   24\n",
              "99996  99996 2018-11-28 00:15:24.049      1.16  ...     0   15   24\n",
              "99997  99997 2018-11-28 00:15:24.049      1.16  ...     0   15   24\n",
              "99998  99998 2018-11-28 00:15:24.049      1.16  ...     0   15   24\n",
              "99999  99999 2018-11-28 00:15:24.049      1.23  ...     0   15   24\n",
              "\n",
              "[100000 rows x 9 columns]"
            ]
          },
          "metadata": {
            "tags": []
          },
          "execution_count": 18
        }
      ]
    },
    {
      "cell_type": "code",
      "metadata": {
        "id": "3YaDoSXXz-nf"
      },
      "source": [
        ""
      ],
      "id": "3YaDoSXXz-nf",
      "execution_count": 18,
      "outputs": []
    },
    {
      "cell_type": "code",
      "metadata": {
        "id": "peaceful-floor"
      },
      "source": [
        "df =pd.concat([df,cab_provider,source,destination,cab_type],axis=1)"
      ],
      "id": "peaceful-floor",
      "execution_count": 19,
      "outputs": []
    },
    {
      "cell_type": "code",
      "metadata": {
        "colab": {
          "base_uri": "https://localhost:8080/"
        },
        "id": "creative-complaint",
        "outputId": "4dcecaea-1f2e-4d29-9e61-772517269140"
      },
      "source": [
        "df.info()"
      ],
      "id": "creative-complaint",
      "execution_count": 20,
      "outputs": [
        {
          "output_type": "stream",
          "text": [
            "<class 'pandas.core.frame.DataFrame'>\n",
            "RangeIndex: 100000 entries, 0 to 99999\n",
            "Data columns (total 43 columns):\n",
            " #   Column                   Non-Null Count   Dtype         \n",
            "---  ------                   --------------   -----         \n",
            " 0   index                    100000 non-null  int64         \n",
            " 1   time_stamp               100000 non-null  datetime64[ns]\n",
            " 2   distance                 100000 non-null  float64       \n",
            " 3   surge_multiplier         100000 non-null  float64       \n",
            " 4   fare                     100000 non-null  float64       \n",
            " 5   day                      100000 non-null  int64         \n",
            " 6   hour                     100000 non-null  int64         \n",
            " 7   min                      100000 non-null  int64         \n",
            " 8   sec                      100000 non-null  int64         \n",
            " 9   Uber                     100000 non-null  uint8         \n",
            " 10  Beacon Hill              100000 non-null  uint8         \n",
            " 11  Boston University        100000 non-null  uint8         \n",
            " 12  Fenway                   100000 non-null  uint8         \n",
            " 13  Financial District       100000 non-null  uint8         \n",
            " 14  Haymarket Square         100000 non-null  uint8         \n",
            " 15  North End                100000 non-null  uint8         \n",
            " 16  North Station            100000 non-null  uint8         \n",
            " 17  Northeastern University  100000 non-null  uint8         \n",
            " 18  South Station            100000 non-null  uint8         \n",
            " 19  Theatre District         100000 non-null  uint8         \n",
            " 20  West End                 100000 non-null  uint8         \n",
            " 21  Beacon Hill              100000 non-null  uint8         \n",
            " 22  Boston University        100000 non-null  uint8         \n",
            " 23  Fenway                   100000 non-null  uint8         \n",
            " 24  Financial District       100000 non-null  uint8         \n",
            " 25  Haymarket Square         100000 non-null  uint8         \n",
            " 26  North End                100000 non-null  uint8         \n",
            " 27  North Station            100000 non-null  uint8         \n",
            " 28  Northeastern University  100000 non-null  uint8         \n",
            " 29  South Station            100000 non-null  uint8         \n",
            " 30  Theatre District         100000 non-null  uint8         \n",
            " 31  West End                 100000 non-null  uint8         \n",
            " 32  Black SUV                100000 non-null  uint8         \n",
            " 33  Lux                      100000 non-null  uint8         \n",
            " 34  Lux Black                100000 non-null  uint8         \n",
            " 35  Lux Black XL             100000 non-null  uint8         \n",
            " 36  Lyft                     100000 non-null  uint8         \n",
            " 37  Lyft XL                  100000 non-null  uint8         \n",
            " 38  Shared                   100000 non-null  uint8         \n",
            " 39  UberPool                 100000 non-null  uint8         \n",
            " 40  UberX                    100000 non-null  uint8         \n",
            " 41  UberXL                   100000 non-null  uint8         \n",
            " 42  WAV                      100000 non-null  uint8         \n",
            "dtypes: datetime64[ns](1), float64(3), int64(5), uint8(34)\n",
            "memory usage: 10.1 MB\n"
          ],
          "name": "stdout"
        }
      ]
    },
    {
      "cell_type": "code",
      "metadata": {
        "id": "PE9A84dR0Ek9"
      },
      "source": [
        "df.drop('time_stamp',axis=1,inplace= True)"
      ],
      "id": "PE9A84dR0Ek9",
      "execution_count": 21,
      "outputs": []
    },
    {
      "cell_type": "code",
      "metadata": {
        "colab": {
          "base_uri": "https://localhost:8080/"
        },
        "id": "VHUg3dYF36j1",
        "outputId": "3d3e6db0-8998-4f39-c98e-24fa012e19c4"
      },
      "source": [
        "X_poly.shape"
      ],
      "id": "VHUg3dYF36j1",
      "execution_count": 33,
      "outputs": [
        {
          "output_type": "execute_result",
          "data": {
            "text/plain": [
              "(100000, 903)"
            ]
          },
          "metadata": {
            "tags": []
          },
          "execution_count": 33
        }
      ]
    },
    {
      "cell_type": "markdown",
      "metadata": {
        "id": "streaming-giant"
      },
      "source": [
        "# Prepare the data"
      ],
      "id": "streaming-giant"
    },
    {
      "cell_type": "code",
      "metadata": {
        "colab": {
          "base_uri": "https://localhost:8080/"
        },
        "id": "liquid-diary",
        "outputId": "3e2fe23b-5ee5-4bc8-f8f7-f4bf1e80e047"
      },
      "source": [
        " from sklearn.model_selection import train_test_split\n",
        " X_train,X_testcv,Y_train,Y_testcv = train_test_split(df.drop('fare',axis=1), df['fare'], test_size=0.30, random_state=42)\n",
        " print(f\"Rows in train set: {len(X_train)}\\nRows in test set: {len(X_testcv)}\\n\")"
      ],
      "id": "liquid-diary",
      "execution_count": 39,
      "outputs": [
        {
          "output_type": "stream",
          "text": [
            "Rows in train set: 70000\n",
            "Rows in test set: 30000\n",
            "\n"
          ],
          "name": "stdout"
        }
      ]
    },
    {
      "cell_type": "code",
      "metadata": {
        "colab": {
          "base_uri": "https://localhost:8080/"
        },
        "id": "PyzTVEAPurhk",
        "outputId": "c820b555-2044-4eec-f09d-8b3a4f40443e"
      },
      "source": [
        "df.drop('fare',axis=1).shape\n",
        "df[\"fare\"].shape"
      ],
      "id": "PyzTVEAPurhk",
      "execution_count": 40,
      "outputs": [
        {
          "output_type": "execute_result",
          "data": {
            "text/plain": [
              "(100000,)"
            ]
          },
          "metadata": {
            "tags": []
          },
          "execution_count": 40
        }
      ]
    },
    {
      "cell_type": "code",
      "metadata": {
        "id": "FTMqWw631y76"
      },
      "source": [
        ""
      ],
      "id": "FTMqWw631y76",
      "execution_count": 40,
      "outputs": []
    },
    {
      "cell_type": "code",
      "metadata": {
        "colab": {
          "base_uri": "https://localhost:8080/"
        },
        "id": "colonial-munich",
        "outputId": "8b2d591f-929d-4f15-be56-746172cffe83"
      },
      "source": [
        "X_cv,X_test,Y_cv,Y_test = train_test_split(X_testcv, Y_testcv, test_size=0.50, random_state=42)\n",
        "print(f\"Rows in cross validation set: {len(X_cv)}\\nRows in test set: {len(X_test)}\\n\")"
      ],
      "id": "colonial-munich",
      "execution_count": 41,
      "outputs": [
        {
          "output_type": "stream",
          "text": [
            "Rows in cross validation set: 15000\n",
            "Rows in test set: 15000\n",
            "\n"
          ],
          "name": "stdout"
        }
      ]
    },
    {
      "cell_type": "code",
      "metadata": {
        "colab": {
          "base_uri": "https://localhost:8080/"
        },
        "id": "Q31h0iYlrx8a",
        "outputId": "b36ca456-9dc3-475a-b1e1-f35a6440bab1"
      },
      "source": [
        "Y_train.describe()"
      ],
      "id": "Q31h0iYlrx8a",
      "execution_count": 42,
      "outputs": [
        {
          "output_type": "execute_result",
          "data": {
            "text/plain": [
              "count    70000.000000\n",
              "mean        16.587376\n",
              "std          9.338233\n",
              "min          2.500000\n",
              "25%          9.000000\n",
              "50%         13.500000\n",
              "75%         22.500000\n",
              "max         92.000000\n",
              "Name: fare, dtype: float64"
            ]
          },
          "metadata": {
            "tags": []
          },
          "execution_count": 42
        }
      ]
    },
    {
      "cell_type": "code",
      "metadata": {
        "colab": {
          "base_uri": "https://localhost:8080/"
        },
        "id": "Pm4R9p3LsUgx",
        "outputId": "67b67510-37a8-4612-dad7-f616c4b8b31f"
      },
      "source": [
        "Y_cv.describe()"
      ],
      "id": "Pm4R9p3LsUgx",
      "execution_count": 43,
      "outputs": [
        {
          "output_type": "execute_result",
          "data": {
            "text/plain": [
              "count    15000.000000\n",
              "mean        16.484333\n",
              "std          9.323432\n",
              "min          2.500000\n",
              "25%          9.000000\n",
              "50%         13.500000\n",
              "75%         22.500000\n",
              "max         80.500000\n",
              "Name: fare, dtype: float64"
            ]
          },
          "metadata": {
            "tags": []
          },
          "execution_count": 43
        }
      ]
    },
    {
      "cell_type": "code",
      "metadata": {
        "colab": {
          "base_uri": "https://localhost:8080/"
        },
        "id": "sYHrWRPMsYRA",
        "outputId": "5854b08d-b3d5-4ab2-cb15-0e5266d1336d"
      },
      "source": [
        "Y_test.describe()"
      ],
      "id": "sYHrWRPMsYRA",
      "execution_count": 44,
      "outputs": [
        {
          "output_type": "execute_result",
          "data": {
            "text/plain": [
              "count    15000.000000\n",
              "mean        16.581333\n",
              "std          9.324281\n",
              "min          2.500000\n",
              "25%          9.000000\n",
              "50%         14.000000\n",
              "75%         22.500000\n",
              "max         80.000000\n",
              "Name: fare, dtype: float64"
            ]
          },
          "metadata": {
            "tags": []
          },
          "execution_count": 44
        }
      ]
    },
    {
      "cell_type": "code",
      "metadata": {
        "id": "interior-ticket"
      },
      "source": [
        "# X_train.drop('time_stamp',axis=1,inplace= True)\n",
        "# X_cv.drop('time_stamp',axis=1,inplace= True)\n",
        "# X_test.drop('time_stamp',axis=1,inplace= True)"
      ],
      "id": "interior-ticket",
      "execution_count": 45,
      "outputs": []
    },
    {
      "cell_type": "code",
      "metadata": {
        "colab": {
          "base_uri": "https://localhost:8080/"
        },
        "id": "thorough-panic",
        "outputId": "a2d8c499-8be1-436c-c71c-7fb53e3b54e5"
      },
      "source": [
        "X_train.info()"
      ],
      "id": "thorough-panic",
      "execution_count": 46,
      "outputs": [
        {
          "output_type": "stream",
          "text": [
            "<class 'pandas.core.frame.DataFrame'>\n",
            "Int64Index: 70000 entries, 76513 to 15795\n",
            "Data columns (total 41 columns):\n",
            " #   Column                   Non-Null Count  Dtype  \n",
            "---  ------                   --------------  -----  \n",
            " 0   index                    70000 non-null  int64  \n",
            " 1   distance                 70000 non-null  float64\n",
            " 2   surge_multiplier         70000 non-null  float64\n",
            " 3   day                      70000 non-null  int64  \n",
            " 4   hour                     70000 non-null  int64  \n",
            " 5   min                      70000 non-null  int64  \n",
            " 6   sec                      70000 non-null  int64  \n",
            " 7   Uber                     70000 non-null  uint8  \n",
            " 8   Beacon Hill              70000 non-null  uint8  \n",
            " 9   Boston University        70000 non-null  uint8  \n",
            " 10  Fenway                   70000 non-null  uint8  \n",
            " 11  Financial District       70000 non-null  uint8  \n",
            " 12  Haymarket Square         70000 non-null  uint8  \n",
            " 13  North End                70000 non-null  uint8  \n",
            " 14  North Station            70000 non-null  uint8  \n",
            " 15  Northeastern University  70000 non-null  uint8  \n",
            " 16  South Station            70000 non-null  uint8  \n",
            " 17  Theatre District         70000 non-null  uint8  \n",
            " 18  West End                 70000 non-null  uint8  \n",
            " 19  Beacon Hill              70000 non-null  uint8  \n",
            " 20  Boston University        70000 non-null  uint8  \n",
            " 21  Fenway                   70000 non-null  uint8  \n",
            " 22  Financial District       70000 non-null  uint8  \n",
            " 23  Haymarket Square         70000 non-null  uint8  \n",
            " 24  North End                70000 non-null  uint8  \n",
            " 25  North Station            70000 non-null  uint8  \n",
            " 26  Northeastern University  70000 non-null  uint8  \n",
            " 27  South Station            70000 non-null  uint8  \n",
            " 28  Theatre District         70000 non-null  uint8  \n",
            " 29  West End                 70000 non-null  uint8  \n",
            " 30  Black SUV                70000 non-null  uint8  \n",
            " 31  Lux                      70000 non-null  uint8  \n",
            " 32  Lux Black                70000 non-null  uint8  \n",
            " 33  Lux Black XL             70000 non-null  uint8  \n",
            " 34  Lyft                     70000 non-null  uint8  \n",
            " 35  Lyft XL                  70000 non-null  uint8  \n",
            " 36  Shared                   70000 non-null  uint8  \n",
            " 37  UberPool                 70000 non-null  uint8  \n",
            " 38  UberX                    70000 non-null  uint8  \n",
            " 39  UberXL                   70000 non-null  uint8  \n",
            " 40  WAV                      70000 non-null  uint8  \n",
            "dtypes: float64(2), int64(5), uint8(34)\n",
            "memory usage: 6.5 MB\n"
          ],
          "name": "stdout"
        }
      ]
    },
    {
      "cell_type": "code",
      "metadata": {
        "id": "removable-cyprus"
      },
      "source": [
        "# X_train.iloc[:,4:38] = X_train.iloc[:,4:38].astype('int64')"
      ],
      "id": "removable-cyprus",
      "execution_count": 47,
      "outputs": []
    },
    {
      "cell_type": "code",
      "metadata": {
        "id": "willing-telling"
      },
      "source": [
        "# X_test.iloc[:,4:38] = X_test.iloc[:,4:38].astype('int64')"
      ],
      "id": "willing-telling",
      "execution_count": 48,
      "outputs": []
    },
    {
      "cell_type": "code",
      "metadata": {
        "colab": {
          "base_uri": "https://localhost:8080/"
        },
        "id": "latest-cologne",
        "outputId": "18e88597-4434-4880-9b1d-ab587a5b94eb"
      },
      "source": [
        "X_train.info()"
      ],
      "id": "latest-cologne",
      "execution_count": 49,
      "outputs": [
        {
          "output_type": "stream",
          "text": [
            "<class 'pandas.core.frame.DataFrame'>\n",
            "Int64Index: 70000 entries, 76513 to 15795\n",
            "Data columns (total 41 columns):\n",
            " #   Column                   Non-Null Count  Dtype  \n",
            "---  ------                   --------------  -----  \n",
            " 0   index                    70000 non-null  int64  \n",
            " 1   distance                 70000 non-null  float64\n",
            " 2   surge_multiplier         70000 non-null  float64\n",
            " 3   day                      70000 non-null  int64  \n",
            " 4   hour                     70000 non-null  int64  \n",
            " 5   min                      70000 non-null  int64  \n",
            " 6   sec                      70000 non-null  int64  \n",
            " 7   Uber                     70000 non-null  uint8  \n",
            " 8   Beacon Hill              70000 non-null  uint8  \n",
            " 9   Boston University        70000 non-null  uint8  \n",
            " 10  Fenway                   70000 non-null  uint8  \n",
            " 11  Financial District       70000 non-null  uint8  \n",
            " 12  Haymarket Square         70000 non-null  uint8  \n",
            " 13  North End                70000 non-null  uint8  \n",
            " 14  North Station            70000 non-null  uint8  \n",
            " 15  Northeastern University  70000 non-null  uint8  \n",
            " 16  South Station            70000 non-null  uint8  \n",
            " 17  Theatre District         70000 non-null  uint8  \n",
            " 18  West End                 70000 non-null  uint8  \n",
            " 19  Beacon Hill              70000 non-null  uint8  \n",
            " 20  Boston University        70000 non-null  uint8  \n",
            " 21  Fenway                   70000 non-null  uint8  \n",
            " 22  Financial District       70000 non-null  uint8  \n",
            " 23  Haymarket Square         70000 non-null  uint8  \n",
            " 24  North End                70000 non-null  uint8  \n",
            " 25  North Station            70000 non-null  uint8  \n",
            " 26  Northeastern University  70000 non-null  uint8  \n",
            " 27  South Station            70000 non-null  uint8  \n",
            " 28  Theatre District         70000 non-null  uint8  \n",
            " 29  West End                 70000 non-null  uint8  \n",
            " 30  Black SUV                70000 non-null  uint8  \n",
            " 31  Lux                      70000 non-null  uint8  \n",
            " 32  Lux Black                70000 non-null  uint8  \n",
            " 33  Lux Black XL             70000 non-null  uint8  \n",
            " 34  Lyft                     70000 non-null  uint8  \n",
            " 35  Lyft XL                  70000 non-null  uint8  \n",
            " 36  Shared                   70000 non-null  uint8  \n",
            " 37  UberPool                 70000 non-null  uint8  \n",
            " 38  UberX                    70000 non-null  uint8  \n",
            " 39  UberXL                   70000 non-null  uint8  \n",
            " 40  WAV                      70000 non-null  uint8  \n",
            "dtypes: float64(2), int64(5), uint8(34)\n",
            "memory usage: 6.5 MB\n"
          ],
          "name": "stdout"
        }
      ]
    },
    {
      "cell_type": "markdown",
      "metadata": {
        "id": "vocal-currency"
      },
      "source": [
        "# Select model"
      ],
      "id": "vocal-currency"
    },
    {
      "cell_type": "markdown",
      "metadata": {
        "id": "spread-narrative"
      },
      "source": [
        "we are using linear model and tuning on basis of polynomial degree"
      ],
      "id": "spread-narrative"
    },
    {
      "cell_type": "code",
      "metadata": {
        "id": "established-illustration"
      },
      "source": [
        "from sklearn.linear_model import LinearRegression"
      ],
      "id": "established-illustration",
      "execution_count": 50,
      "outputs": []
    },
    {
      "cell_type": "code",
      "metadata": {
        "colab": {
          "base_uri": "https://localhost:8080/"
        },
        "id": "married-contribution",
        "outputId": "599c17fa-8b2d-4801-9d0c-74f2f3b6500a"
      },
      "source": [
        "model = LinearRegression() #5.792384999131107\n",
        "model.fit(X_train,Y_train)\n",
        "#Y_pred=model.predict(X_cv)"
      ],
      "id": "married-contribution",
      "execution_count": 51,
      "outputs": [
        {
          "output_type": "execute_result",
          "data": {
            "text/plain": [
              "LinearRegression(copy_X=True, fit_intercept=True, n_jobs=None, normalize=False)"
            ]
          },
          "metadata": {
            "tags": []
          },
          "execution_count": 51
        }
      ]
    },
    {
      "cell_type": "code",
      "metadata": {
        "colab": {
          "base_uri": "https://localhost:8080/"
        },
        "id": "japanese-darwin",
        "outputId": "acfa963b-676b-4cc9-f7c8-dc13ee98fcdc"
      },
      "source": [
        "model.score(X_cv,Y_cv)"
      ],
      "id": "japanese-darwin",
      "execution_count": 52,
      "outputs": [
        {
          "output_type": "execute_result",
          "data": {
            "text/plain": [
              "0.9272096510841419"
            ]
          },
          "metadata": {
            "tags": []
          },
          "execution_count": 52
        }
      ]
    },
    {
      "cell_type": "code",
      "metadata": {
        "colab": {
          "base_uri": "https://localhost:8080/"
        },
        "id": "nominated-tutorial",
        "outputId": "1a2d8b14-6f26-4262-c14a-ffa674520e5d"
      },
      "source": [
        "model.score(X_test,Y_test)"
      ],
      "id": "nominated-tutorial",
      "execution_count": 53,
      "outputs": [
        {
          "output_type": "execute_result",
          "data": {
            "text/plain": [
              "0.9314794660020524"
            ]
          },
          "metadata": {
            "tags": []
          },
          "execution_count": 53
        }
      ]
    },
    {
      "cell_type": "markdown",
      "metadata": {
        "id": "artificial-taxation"
      },
      "source": [
        "# Fine tuning model"
      ],
      "id": "artificial-taxation"
    },
    {
      "cell_type": "code",
      "metadata": {
        "id": "unexpected-supplier"
      },
      "source": [
        "from sklearn.preprocessing import PolynomialFeatures"
      ],
      "id": "unexpected-supplier",
      "execution_count": 54,
      "outputs": []
    },
    {
      "cell_type": "code",
      "metadata": {
        "id": "meaning-absolute"
      },
      "source": [
        "#X_poly = PolynomialFeatures(degree=2).fit_transform(X_train)"
      ],
      "id": "meaning-absolute",
      "execution_count": 55,
      "outputs": []
    },
    {
      "cell_type": "code",
      "metadata": {
        "id": "governing-token"
      },
      "source": [
        "score=[]\n",
        "#polynomial_features= \n",
        "for i in range(1,3):\n",
        "    X_poly = PolynomialFeatures(degree=i).fit_transform(X_train)\n",
        "    model.fit(X_poly,Y_train)\n",
        "    score.append(model.score(X_poly,Y_train))    "
      ],
      "id": "governing-token",
      "execution_count": 56,
      "outputs": []
    },
    {
      "cell_type": "code",
      "metadata": {
        "colab": {
          "base_uri": "https://localhost:8080/"
        },
        "id": "MgcFZc1X0YlF",
        "outputId": "e357c6f7-5437-4676-9217-decd9a4f05af"
      },
      "source": [
        "poly = PolynomialFeatures(2)\n",
        "print(poly.fit_transform(X_train).shape)\n",
        "print(model.coef_.shape) # weights\n",
        "print(model.intercept_) #bias"
      ],
      "id": "MgcFZc1X0YlF",
      "execution_count": 57,
      "outputs": [
        {
          "output_type": "stream",
          "text": [
            "(70000, 903)\n",
            "(903,)\n",
            "19385.01690304988\n"
          ],
          "name": "stdout"
        }
      ]
    },
    {
      "cell_type": "code",
      "metadata": {
        "colab": {
          "base_uri": "https://localhost:8080/"
        },
        "id": "outstanding-corps",
        "outputId": "1c482898-0ffe-42a3-b520-6155ee0d511b"
      },
      "source": [
        "score"
      ],
      "id": "outstanding-corps",
      "execution_count": 58,
      "outputs": [
        {
          "output_type": "execute_result",
          "data": {
            "text/plain": [
              "[0.9277373567183143, 0.9648105990075279]"
            ]
          },
          "metadata": {
            "tags": []
          },
          "execution_count": 58
        }
      ]
    },
    {
      "cell_type": "code",
      "metadata": {
        "colab": {
          "base_uri": "https://localhost:8080/",
          "height": 316
        },
        "id": "occasional-receiver",
        "outputId": "88862eb1-53e9-4b8b-ce92-dd5fb15676ca"
      },
      "source": [
        "plt.plot(score,[1,2])\n",
        "plt.yticks([1,2])"
      ],
      "id": "occasional-receiver",
      "execution_count": 59,
      "outputs": [
        {
          "output_type": "execute_result",
          "data": {
            "text/plain": [
              "([<matplotlib.axis.YTick at 0x7ff8ddc11610>,\n",
              "  <matplotlib.axis.YTick at 0x7ff8dd9b1f90>],\n",
              " <a list of 2 Text major ticklabel objects>)"
            ]
          },
          "metadata": {
            "tags": []
          },
          "execution_count": 59
        },
        {
          "output_type": "display_data",
          "data": {
            "image/png": "[encoded data removed]",
            "text/plain": [
              "<Figure size 432x288 with 1 Axes>"
            ]
          },
          "metadata": {
            "tags": [],
            "needs_background": "light"
          }
        }
      ]
    },
    {
      "cell_type": "markdown",
      "metadata": {
        "id": "OF8M-L1R66gk"
      },
      "source": [
        "Reshaping to (70000,) to (70000,1)"
      ],
      "id": "OF8M-L1R66gk"
    },
    {
      "cell_type": "code",
      "metadata": {
        "id": "9XJgEe3h2GNd"
      },
      "source": [
        "Y_train =Y_train.values\n",
        "Y_train = Y_train.reshape((70000,1))"
      ],
      "id": "9XJgEe3h2GNd",
      "execution_count": 60,
      "outputs": []
    },
    {
      "cell_type": "code",
      "metadata": {
        "colab": {
          "base_uri": "https://localhost:8080/"
        },
        "id": "vkO4pchE6vdd",
        "outputId": "725480c4-a0c7-49ba-fd7c-582dd8634726"
      },
      "source": [
        "X_poly.shape\n",
        "Y_train.shape"
      ],
      "id": "vkO4pchE6vdd",
      "execution_count": 61,
      "outputs": [
        {
          "output_type": "execute_result",
          "data": {
            "text/plain": [
              "(70000, 1)"
            ]
          },
          "metadata": {
            "tags": []
          },
          "execution_count": 61
        }
      ]
    },
    {
      "cell_type": "code",
      "metadata": {
        "colab": {
          "base_uri": "https://localhost:8080/"
        },
        "id": "interested-picture",
        "outputId": "a31d48a4-1d23-4796-96f9-aa16891eb586"
      },
      "source": [
        "model.fit(X_poly,Y_train)"
      ],
      "id": "interested-picture",
      "execution_count": 62,
      "outputs": [
        {
          "output_type": "execute_result",
          "data": {
            "text/plain": [
              "LinearRegression(copy_X=True, fit_intercept=True, n_jobs=None, normalize=False)"
            ]
          },
          "metadata": {
            "tags": []
          },
          "execution_count": 62
        }
      ]
    },
    {
      "cell_type": "code",
      "metadata": {
        "colab": {
          "base_uri": "https://localhost:8080/"
        },
        "id": "center-queue",
        "outputId": "47e8cc5e-5d5b-4e6e-a12a-6785d3ca378f"
      },
      "source": [
        "model.score(X_poly,Y_train)"
      ],
      "id": "center-queue",
      "execution_count": 63,
      "outputs": [
        {
          "output_type": "execute_result",
          "data": {
            "text/plain": [
              "0.9648105990075279"
            ]
          },
          "metadata": {
            "tags": []
          },
          "execution_count": 63
        }
      ]
    },
    {
      "cell_type": "code",
      "metadata": {
        "colab": {
          "base_uri": "https://localhost:8080/",
          "height": 129
        },
        "id": "tamil-protest",
        "outputId": "74a41b64-8945-4699-8b8a-1adb106e7a6e"
      },
      "source": [
        "(X_train.shape\n",
        "X_poly.shape\n",
        "X_cv .shape"
      ],
      "id": "tamil-protest",
      "execution_count": 64,
      "outputs": [
        {
          "output_type": "error",
          "ename": "SyntaxError",
          "evalue": "ignored",
          "traceback": [
            "\u001b[0;36m  File \u001b[0;32m\"<ipython-input-64-b539233bb078>\"\u001b[0;36m, line \u001b[0;32m2\u001b[0m\n\u001b[0;31m    X_poly.shape\u001b[0m\n\u001b[0m         ^\u001b[0m\n\u001b[0;31mSyntaxError\u001b[0m\u001b[0;31m:\u001b[0m invalid syntax\n"
          ]
        }
      ]
    },
    {
      "cell_type": "code",
      "metadata": {
        "id": "wgdMIYa5onra"
      },
      "source": [
        "X_poly_cv = PolynomialFeatures(degree=2).fit_transform(X_cv)\n",
        "X_poly_test = PolynomialFeatures(degree=2).fit_transform(X_test)"
      ],
      "id": "wgdMIYa5onra",
      "execution_count": 65,
      "outputs": []
    },
    {
      "cell_type": "code",
      "metadata": {
        "collapsed": true,
        "id": "herbal-disco",
        "colab": {
          "base_uri": "https://localhost:8080/"
        },
        "outputId": "04330004-3cd3-4c7d-b50c-e4927b92dc0b"
      },
      "source": [
        "model.score(X_poly_cv,Y_cv)"
      ],
      "id": "herbal-disco",
      "execution_count": 66,
      "outputs": [
        {
          "output_type": "execute_result",
          "data": {
            "text/plain": [
              "0.9648628032902702"
            ]
          },
          "metadata": {
            "tags": []
          },
          "execution_count": 66
        }
      ]
    },
    {
      "cell_type": "code",
      "metadata": {
        "colab": {
          "base_uri": "https://localhost:8080/"
        },
        "id": "tGPq-KiR8stx",
        "outputId": "50966cd1-81a4-41db-eeb3-c05866cac2aa"
      },
      "source": [
        "model.predict(X_poly_cv)"
      ],
      "id": "tGPq-KiR8stx",
      "execution_count": 74,
      "outputs": [
        {
          "output_type": "execute_result",
          "data": {
            "text/plain": [
              "array([[ 8.84446646],\n",
              "       [24.91858294],\n",
              "       [ 7.13471475],\n",
              "       ...,\n",
              "       [13.58520768],\n",
              "       [ 7.01022969],\n",
              "       [26.7627898 ]])"
            ]
          },
          "metadata": {
            "tags": []
          },
          "execution_count": 74
        }
      ]
    },
    {
      "cell_type": "code",
      "metadata": {
        "colab": {
          "base_uri": "https://localhost:8080/"
        },
        "id": "nVS7_BBE80Y_",
        "outputId": "2fca6957-261d-4d61-8ddd-bd1a02eda1eb"
      },
      "source": [
        "Y_cv"
      ],
      "id": "nVS7_BBE80Y_",
      "execution_count": 75,
      "outputs": [
        {
          "output_type": "execute_result",
          "data": {
            "text/plain": [
              "3929     13.0\n",
              "66365    25.0\n",
              "9267      7.5\n",
              "23724    28.0\n",
              "77309    10.5\n",
              "         ... \n",
              "92202     8.5\n",
              "69141    13.0\n",
              "97106    12.0\n",
              "478       7.0\n",
              "33121    27.5\n",
              "Name: fare, Length: 15000, dtype: float64"
            ]
          },
          "metadata": {
            "tags": []
          },
          "execution_count": 75
        }
      ]
    },
    {
      "cell_type": "code",
      "metadata": {
        "id": "liquid-portal",
        "colab": {
          "base_uri": "https://localhost:8080/"
        },
        "outputId": "ceac251a-657c-4a68-ddd8-b866423c8380"
      },
      "source": [
        "model.score(X_poly_test,Y_test)"
      ],
      "id": "liquid-portal",
      "execution_count": 67,
      "outputs": [
        {
          "output_type": "execute_result",
          "data": {
            "text/plain": [
              "0.9653407076377107"
            ]
          },
          "metadata": {
            "tags": []
          },
          "execution_count": 67
        }
      ]
    },
    {
      "cell_type": "markdown",
      "metadata": {
        "id": "orange-louisville"
      },
      "source": [
        "## testing"
      ],
      "id": "orange-louisville"
    },
    {
      "cell_type": "code",
      "metadata": {
        "id": "modular-wednesday"
      },
      "source": [
        "test = pd.read_csv(\"TEST.csv\")"
      ],
      "id": "modular-wednesday",
      "execution_count": null,
      "outputs": []
    },
    {
      "cell_type": "code",
      "metadata": {
        "id": "exclusive-extraction"
      },
      "source": [
        "test"
      ],
      "id": "exclusive-extraction",
      "execution_count": null,
      "outputs": []
    },
    {
      "cell_type": "code",
      "metadata": {
        "id": "painted-tobacco"
      },
      "source": [
        "cab_provider = pd.get_dummies(test[\"cab_provider\"],drop_first=True)\n",
        "source = pd.get_dummies(test[\"source\"],drop_first=True)\n",
        "destination = pd.get_dummies(test[\"destination\"],drop_first=True)\n",
        "cab_type = pd.get_dummies(test[\"cab_type\"],drop_first=True)"
      ],
      "id": "painted-tobacco",
      "execution_count": null,
      "outputs": []
    },
    {
      "cell_type": "code",
      "metadata": {
        "id": "aboriginal-balance"
      },
      "source": [
        "test.drop([\"cab_provider\",\"source\",\"destination\",\"cab_type\"], axis=1,inplace=True)\n",
        "test =pd.concat([test,cab_provider,source,destination,cab_type],axis=1)"
      ],
      "id": "aboriginal-balance",
      "execution_count": null,
      "outputs": []
    },
    {
      "cell_type": "code",
      "metadata": {
        "id": "likely-friend"
      },
      "source": [
        "test[\"day\"] = pd.to_datetime(test.time_stamp, format=\"%Y-%m-%d\").dt.day\n",
        "test[\"hour\"] = pd.to_datetime(test.time_stamp, format=\"%Y-%m-%d\").dt.hour\n",
        "test[\"min\"] = pd.to_datetime(test.time_stamp, format=\"%Y-%m-%d\").dt.minute\n",
        "test[\"sec\"] = pd.to_datetime(test.time_stamp, format=\"%Y-%m-%d\").dt.second"
      ],
      "id": "likely-friend",
      "execution_count": null,
      "outputs": []
    },
    {
      "cell_type": "code",
      "metadata": {
        "id": "golden-jaguar",
        "outputId": "bdc7a7e3-94e3-4caa-9c67-28e4cf785361"
      },
      "source": [
        "df.head()"
      ],
      "id": "golden-jaguar",
      "execution_count": null,
      "outputs": [
        {
          "output_type": "execute_result",
          "data": {
            "text/html": [
              "<div>\n",
              "<style scoped>\n",
              "    .dataframe tbody tr th:only-of-type {\n",
              "        vertical-align: middle;\n",
              "    }\n",
              "\n",
              "    .dataframe tbody tr th {\n",
              "        vertical-align: top;\n",
              "    }\n",
              "\n",
              "    .dataframe thead th {\n",
              "        text-align: right;\n",
              "    }\n",
              "</style>\n",
              "<table border=\"1\" class=\"dataframe\">\n",
              "  <thead>\n",
              "    <tr style=\"text-align: right;\">\n",
              "      <th></th>\n",
              "      <th>index</th>\n",
              "      <th>time_stamp</th>\n",
              "      <th>cab_provider</th>\n",
              "      <th>source</th>\n",
              "      <th>destination</th>\n",
              "      <th>distance</th>\n",
              "      <th>surge_multiplier</th>\n",
              "      <th>cab_type</th>\n",
              "      <th>fare</th>\n",
              "      <th>day</th>\n",
              "      <th>hour</th>\n",
              "      <th>min</th>\n",
              "      <th>sec</th>\n",
              "    </tr>\n",
              "  </thead>\n",
              "  <tbody>\n",
              "    <tr>\n",
              "      <th>0</th>\n",
              "      <td>0</td>\n",
              "      <td>2018-11-26 03:40:46.318</td>\n",
              "      <td>Lyft</td>\n",
              "      <td>Boston University</td>\n",
              "      <td>Theatre District</td>\n",
              "      <td>3.03</td>\n",
              "      <td>1.0</td>\n",
              "      <td>Lux Black XL</td>\n",
              "      <td>34.0</td>\n",
              "      <td>26</td>\n",
              "      <td>3</td>\n",
              "      <td>40</td>\n",
              "      <td>46</td>\n",
              "    </tr>\n",
              "    <tr>\n",
              "      <th>1</th>\n",
              "      <td>1</td>\n",
              "      <td>2018-11-26 03:40:46.319</td>\n",
              "      <td>Uber</td>\n",
              "      <td>South Station</td>\n",
              "      <td>Theatre District</td>\n",
              "      <td>1.30</td>\n",
              "      <td>1.0</td>\n",
              "      <td>Black</td>\n",
              "      <td>18.5</td>\n",
              "      <td>26</td>\n",
              "      <td>3</td>\n",
              "      <td>40</td>\n",
              "      <td>46</td>\n",
              "    </tr>\n",
              "    <tr>\n",
              "      <th>2</th>\n",
              "      <td>2</td>\n",
              "      <td>2018-11-26 03:40:46.320</td>\n",
              "      <td>Uber</td>\n",
              "      <td>Theatre District</td>\n",
              "      <td>Fenway</td>\n",
              "      <td>2.71</td>\n",
              "      <td>1.0</td>\n",
              "      <td>UberX</td>\n",
              "      <td>19.5</td>\n",
              "      <td>26</td>\n",
              "      <td>3</td>\n",
              "      <td>40</td>\n",
              "      <td>46</td>\n",
              "    </tr>\n",
              "    <tr>\n",
              "      <th>3</th>\n",
              "      <td>3</td>\n",
              "      <td>2018-11-26 03:40:46.320</td>\n",
              "      <td>Lyft</td>\n",
              "      <td>Northeastern University</td>\n",
              "      <td>Beacon Hill</td>\n",
              "      <td>2.43</td>\n",
              "      <td>1.0</td>\n",
              "      <td>Lyft</td>\n",
              "      <td>10.5</td>\n",
              "      <td>26</td>\n",
              "      <td>3</td>\n",
              "      <td>40</td>\n",
              "      <td>46</td>\n",
              "    </tr>\n",
              "    <tr>\n",
              "      <th>4</th>\n",
              "      <td>4</td>\n",
              "      <td>2018-11-26 03:40:46.320</td>\n",
              "      <td>Uber</td>\n",
              "      <td>Theatre District</td>\n",
              "      <td>Fenway</td>\n",
              "      <td>2.71</td>\n",
              "      <td>1.0</td>\n",
              "      <td>UberXL</td>\n",
              "      <td>32.0</td>\n",
              "      <td>26</td>\n",
              "      <td>3</td>\n",
              "      <td>40</td>\n",
              "      <td>46</td>\n",
              "    </tr>\n",
              "  </tbody>\n",
              "</table>\n",
              "</div>"
            ],
            "text/plain": [
              "   index              time_stamp cab_provider                   source  \\\n",
              "0      0 2018-11-26 03:40:46.318         Lyft        Boston University   \n",
              "1      1 2018-11-26 03:40:46.319         Uber            South Station   \n",
              "2      2 2018-11-26 03:40:46.320         Uber         Theatre District   \n",
              "3      3 2018-11-26 03:40:46.320         Lyft  Northeastern University   \n",
              "4      4 2018-11-26 03:40:46.320         Uber         Theatre District   \n",
              "\n",
              "        destination  distance  surge_multiplier      cab_type  fare  day  \\\n",
              "0  Theatre District      3.03               1.0  Lux Black XL  34.0   26   \n",
              "1  Theatre District      1.30               1.0         Black  18.5   26   \n",
              "2            Fenway      2.71               1.0         UberX  19.5   26   \n",
              "3       Beacon Hill      2.43               1.0          Lyft  10.5   26   \n",
              "4            Fenway      2.71               1.0        UberXL  32.0   26   \n",
              "\n",
              "   hour  min  sec  \n",
              "0     3   40   46  \n",
              "1     3   40   46  \n",
              "2     3   40   46  \n",
              "3     3   40   46  \n",
              "4     3   40   46  "
            ]
          },
          "metadata": {
            "tags": []
          },
          "execution_count": 21
        }
      ]
    },
    {
      "cell_type": "code",
      "metadata": {
        "id": "visible-august"
      },
      "source": [
        "test.drop(\"time_stamp\",axis=1,inplace=True)"
      ],
      "id": "visible-august",
      "execution_count": null,
      "outputs": []
    },
    {
      "cell_type": "code",
      "metadata": {
        "id": "excessive-hollow"
      },
      "source": [
        "test.info()"
      ],
      "id": "excessive-hollow",
      "execution_count": null,
      "outputs": []
    },
    {
      "cell_type": "code",
      "metadata": {
        "id": "disabled-baseball"
      },
      "source": [
        "a=model.predict(test)"
      ],
      "id": "disabled-baseball",
      "execution_count": null,
      "outputs": []
    },
    {
      "cell_type": "markdown",
      "metadata": {
        "id": "surprising-banks"
      },
      "source": [
        "# Output"
      ],
      "id": "surprising-banks"
    },
    {
      "cell_type": "code",
      "metadata": {
        "id": "executive-preservation"
      },
      "source": [
        "output = pd.DataFrame(a)"
      ],
      "id": "executive-preservation",
      "execution_count": null,
      "outputs": []
    },
    {
      "cell_type": "code",
      "metadata": {
        "id": "automatic-imperial"
      },
      "source": [
        "output.columns=['fare']"
      ],
      "id": "automatic-imperial",
      "execution_count": null,
      "outputs": []
    },
    {
      "cell_type": "code",
      "metadata": {
        "id": "professional-fellow"
      },
      "source": [
        "output = pd.concat([df.iloc[:25000,0],output],axis=1)"
      ],
      "id": "professional-fellow",
      "execution_count": null,
      "outputs": []
    },
    {
      "cell_type": "code",
      "metadata": {
        "id": "downtown-joshua"
      },
      "source": [
        "output = output.set_index('index')"
      ],
      "id": "downtown-joshua",
      "execution_count": null,
      "outputs": []
    },
    {
      "cell_type": "code",
      "metadata": {
        "id": "freelance-obligation"
      },
      "source": [
        "output.info()"
      ],
      "id": "freelance-obligation",
      "execution_count": null,
      "outputs": []
    },
    {
      "cell_type": "code",
      "metadata": {
        "id": "needed-freeware"
      },
      "source": [
        "output.to_csv('output.csv')"
      ],
      "id": "needed-freeware",
      "execution_count": null,
      "outputs": []
    },
    {
      "cell_type": "code",
      "metadata": {
        "id": "sdZFFW5D2Cj2"
      },
      "source": [
        ""
      ],
      "id": "sdZFFW5D2Cj2",
      "execution_count": null,
      "outputs": []
    }
  ]
}